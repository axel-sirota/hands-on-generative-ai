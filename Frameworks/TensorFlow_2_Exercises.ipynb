{
 "cells": [
  {
   "cell_type": "markdown",
   "id": "8601d189",
   "metadata": {
    "id": "8601d189"
   },
   "source": [
    "\n",
    "# TensorFlow 2 Exercises for Basic Tensor Manipulation\n",
    "\n",
    "This notebook provides a set of exercises designed to familiarize you with the basics of tensor manipulation in TensorFlow 2,\n",
    "which is essential for handling Large Language Models (LLMs).\n",
    "\n",
    "## Contents\n",
    "1. Tensor Basics\n",
    "2. Tensor Operations\n",
    "3. Manipulating Tensor Shapes\n",
    "4. Indexing and Slicing\n",
    "5. Broadcasting\n",
    "6. Gradients and Differentiation\n",
    "7. Simple Neural Network Components\n",
    "8. Data Loading and Preprocessing\n",
    "\n",
    "Each section will include a brief explanation followed by practical exercises.\n"
   ]
  },
  {
   "cell_type": "markdown",
   "id": "216324e4",
   "metadata": {
    "id": "216324e4"
   },
   "source": [
    "\n",
    "## 1. Tensor Basics\n",
    "\n",
    "**Objective**: Understand how to create tensors, and learn about their types and shapes.\n",
    "\n",
    "**Exercises**:\n",
    "1. Create a scalar tensor (0-D tensor) with a specific value.\n",
    "2. Create a 1-D tensor (vector) with 5 elements.\n",
    "3. Create a 2-D tensor (matrix) of shape (3, 3).\n",
    "4. Find the data type (`dtype`) of the tensors created above.\n",
    "5. Convert a numpy array to a TensorFlow tensor.\n"
   ]
  },
  {
   "cell_type": "markdown",
   "id": "02281206",
   "metadata": {
    "id": "02281206"
   },
   "source": [
    "\n",
    "## 2. Tensor Operations\n",
    "\n",
    "**Objective**: Perform basic arithmetic operations and learn some advanced operations.\n",
    "\n",
    "**Exercises**:\n",
    "1. Add, subtract, multiply, and divide two tensors.\n",
    "2. Compute the mean and standard deviation of a tensor.\n",
    "3. Apply a non-linear activation function (like ReLU) to a tensor.\n",
    "4. Perform matrix multiplication between two 2-D tensors.\n"
   ]
  },
  {
   "cell_type": "markdown",
   "id": "d4bd1425",
   "metadata": {
    "id": "d4bd1425"
   },
   "source": [
    "\n",
    "## 3. Manipulating Tensor Shapes\n",
    "\n",
    "**Objective**: Learn how to reshape and transpose tensors.\n",
    "\n",
    "**Exercises**:\n",
    "1. Create a tensor of shape (4, 4), then reshape it to (2, 8).\n",
    "2. Transpose a 2-D tensor.\n",
    "3. Flatten a 3-D tensor to a 1-D tensor.\n"
   ]
  },
  {
   "cell_type": "markdown",
   "id": "7c2af7ed",
   "metadata": {
    "id": "7c2af7ed"
   },
   "source": [
    "\n",
    "## 4. Indexing and Slicing\n",
    "\n",
    "**Objective**: Access specific elements or slices of a tensor.\n",
    "\n",
    "**Exercises**:\n",
    "1. Extract a specific element from a tensor.\n",
    "2. Slice a portion of a tensor.\n",
    "3. Use boolean tensor indexing to filter elements.\n"
   ]
  },
  {
   "cell_type": "markdown",
   "id": "dd6b95f3",
   "metadata": {
    "id": "dd6b95f3"
   },
   "source": [
    "\n",
    "## 5. Broadcasting\n",
    "\n",
    "**Objective**: Understand and apply broadcasting rules in tensor operations.\n",
    "\n",
    "**Exercises**:\n",
    "1. Perform an element-wise addition between tensors of different shapes.\n",
    "2. Broadcast a smaller tensor to match the shape of a larger tensor in an operation.\n"
   ]
  },
  {
   "cell_type": "markdown",
   "id": "978eb143",
   "metadata": {
    "id": "978eb143"
   },
   "source": [
    "\n",
    "## 6. Gradients and Differentiation\n",
    "\n",
    "**Objective**: Basic introduction to automatic differentiation.\n",
    "\n",
    "**Exercises**:\n",
    "1. Use `tf.GradientTape` to compute derivatives.\n",
    "2. Find the gradient of a simple function with respect to one of its inputs.\n"
   ]
  },
  {
   "cell_type": "markdown",
   "id": "5ca2545d",
   "metadata": {
    "id": "5ca2545d"
   },
   "source": [
    "\n",
    "## 7. Data Loading and Preprocessing\n",
    "\n",
    "**Objective**: Use `tf.data` for efficient data handling.\n",
    "\n",
    "**Exercises**:\n",
    "1. Create a simple dataset using `tf.data.Dataset`.\n",
    "2. Apply a transformation (like mapping) to the dataset.\n",
    "3. Batch and shuffle the dataset.\n"
   ]
  },
  {
   "cell_type": "code",
   "execution_count": null,
   "id": "FgxSOrQneCW6",
   "metadata": {
    "id": "FgxSOrQneCW6"
   },
   "outputs": [],
   "source": []
  }
 ],
 "metadata": {
  "colab": {
   "provenance": []
  },
  "kernelspec": {
   "display_name": "Python 3 (ipykernel)",
   "language": "python",
   "name": "python3"
  },
  "language_info": {
   "codemirror_mode": {
    "name": "ipython",
    "version": 3
   },
   "file_extension": ".py",
   "mimetype": "text/x-python",
   "name": "python",
   "nbconvert_exporter": "python",
   "pygments_lexer": "ipython3",
   "version": "3.10.6"
  }
 },
 "nbformat": 4,
 "nbformat_minor": 5
}

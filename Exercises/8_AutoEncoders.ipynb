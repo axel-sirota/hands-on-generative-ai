{
 "nbformat": 4,
 "nbformat_minor": 0,
 "metadata": {
  "colab": {
   "provenance": [],
   "gpuType": "V100",
   "authorship_tag": "ABX9TyPvyboGoNJRNo5HcxpxwT0j"
  },
  "kernelspec": {
   "name": "python3",
   "display_name": "Python 3"
  },
  "language_info": {
   "name": "python"
  },
  "accelerator": "GPU"
 },
 "cells": [
  {
   "cell_type": "markdown",
   "source": [
    "# AutoEncoders in Images"
   ],
   "metadata": {
    "id": "uPLHZVKEdc7F"
   }
  },
  {
   "cell_type": "markdown",
   "source": [
    "## What is an AutoEncoder?"
   ],
   "metadata": {
    "id": "n4Sv_9-7dgDP"
   }
  },
  {
   "cell_type": "markdown",
   "source": [
    "In a sense, is just an encoder which reduces the dimensionality at each step up to a bottleneck, which we know as latent representation. Then the decoder does the same but in the inverse way, and thats it, it tries to match the original image as much as possible."
   ],
   "metadata": {
    "id": "pteb6aFKdizk"
   }
  },
  {
   "cell_type": "code",
   "execution_count": 35,
   "metadata": {
    "id": "4XFwrE47dJNt",
    "executionInfo": {
     "status": "ok",
     "timestamp": 1700362800613,
     "user_tz": 180,
     "elapsed": 351,
     "user": {
      "displayName": "Axel Sirota",
      "userId": "02089179879199828401"
     }
    }
   },
   "outputs": [],
   "source": [
    "import matplotlib.pyplot as plt\n",
    "import numpy as np\n",
    "import pandas as pd\n",
    "import tensorflow as tf\n",
    "\n",
    "from tensorflow.keras import layers, losses\n",
    "from tensorflow.keras.datasets import fashion_mnist\n",
    "from tensorflow.keras import Model, Input"
   ]
  },
  {
   "cell_type": "code",
   "source": [
    "(x_train, _), (x_test, _) = fashion_mnist.load_data()\n",
    "\n",
    "x_train = x_train.astype('float32') / 255.\n",
    "x_test = x_test.astype('float32') / 255.\n",
    "\n",
    "print (x_train.shape)\n",
    "print (x_test.shape)"
   ],
   "metadata": {
    "colab": {
     "base_uri": "https://localhost:8080/"
    },
    "id": "ECxz5GBcd6ew",
    "executionInfo": {
     "status": "ok",
     "timestamp": 1700362801467,
     "user_tz": 180,
     "elapsed": 496,
     "user": {
      "displayName": "Axel Sirota",
      "userId": "02089179879199828401"
     }
    },
    "outputId": "cfc26a7c-fdfe-4b04-a291-86e6eb0175f8"
   },
   "execution_count": 36,
   "outputs": [
    {
     "output_type": "stream",
     "name": "stdout",
     "text": [
      "(60000, 28, 28)\n",
      "(10000, 28, 28)\n"
     ]
    }
   ]
  },
  {
   "cell_type": "markdown",
   "source": [
    "Fashion MNIST, as well as MNIST, are 28x28 images of fashion items."
   ],
   "metadata": {
    "id": "OHNYxIpMeBJw"
   }
  },
  {
   "cell_type": "markdown",
   "source": [
    "### Defining the Model"
   ],
   "metadata": {
    "id": "UB9lgpuLeJoi"
   }
  },
  {
   "cell_type": "code",
   "source": [
    "class Autoencoder(Model):\n",
    "  def __init__(self, latent_dim, shape):\n",
    "    super().__init__()\n",
    "    self.latent_dim = latent_dim\n",
    "    self.shape = shape\n",
    "    # Fill with:\n",
    "    # - Flattening\n",
    "    # - a Dense layer of half the dimensions taken from shape and activation selu, then\n",
    "    # - a Dense layer to the latent dim\n",
    "    self.encoder = None\n",
    "    # Do the inverse\n",
    "    self.decoder = None\n",
    "\n",
    "  def call(self, x):\n",
    "    encoded = self.encoder(x)\n",
    "    decoded = self.decoder(encoded)\n",
    "    return decoded\n",
    "\n",
    "  def build_graph(self):\n",
    "    # implement\n",
    "    pass\n",
    "\n",
    "\n",
    "shape = x_test.shape[1:]\n",
    "latent_dim = 64\n",
    "autoencoder = Autoencoder(latent_dim, shape)"
   ],
   "metadata": {
    "id": "b9HqCsevd97v",
    "executionInfo": {
     "status": "ok",
     "timestamp": 1700362801468,
     "user_tz": 180,
     "elapsed": 15,
     "user": {
      "displayName": "Axel Sirota",
      "userId": "02089179879199828401"
     }
    }
   },
   "execution_count": 37,
   "outputs": []
  },
  {
   "cell_type": "code",
   "source": [
    "# Compile with Adam and MSE\n",
    "None"
   ],
   "metadata": {
    "id": "j11LPv-ifktt",
    "executionInfo": {
     "status": "ok",
     "timestamp": 1700362801468,
     "user_tz": 180,
     "elapsed": 14,
     "user": {
      "displayName": "Axel Sirota",
      "userId": "02089179879199828401"
     }
    }
   },
   "execution_count": 38,
   "outputs": []
  },
  {
   "cell_type": "code",
   "source": [
    "autoencoder.build_graph()"
   ],
   "metadata": {
    "id": "IRlW0H56e0en",
    "executionInfo": {
     "status": "ok",
     "timestamp": 1700362801468,
     "user_tz": 180,
     "elapsed": 13,
     "user": {
      "displayName": "Axel Sirota",
      "userId": "02089179879199828401"
     }
    }
   },
   "execution_count": 39,
   "outputs": []
  },
  {
   "cell_type": "code",
   "source": [
    "autoencoder.summary()"
   ],
   "metadata": {
    "colab": {
     "base_uri": "https://localhost:8080/"
    },
    "id": "cvSMncC3e-VW",
    "executionInfo": {
     "status": "ok",
     "timestamp": 1700362801468,
     "user_tz": 180,
     "elapsed": 13,
     "user": {
      "displayName": "Axel Sirota",
      "userId": "02089179879199828401"
     }
    },
    "outputId": "1ae816b6-86a4-4cce-bbd4-d6c2102d6ec6"
   },
   "execution_count": 40,
   "outputs": [
    {
     "output_type": "stream",
     "name": "stdout",
     "text": [
      "Model: \"autoencoder_9\"\n",
      "_________________________________________________________________\n",
      " Layer (type)                Output Shape              Param #   \n",
      "=================================================================\n",
      " sequential_18 (Sequential)  (None, 64)                332872    \n",
      "                                                                 \n",
      " sequential_19 (Sequential)  (None, 28, 28)            333592    \n",
      "                                                                 \n",
      "=================================================================\n",
      "Total params: 666464 (2.54 MB)\n",
      "Trainable params: 666464 (2.54 MB)\n",
      "Non-trainable params: 0 (0.00 Byte)\n",
      "_________________________________________________________________\n"
     ]
    }
   ]
  },
  {
   "cell_type": "code",
   "source": [
    "#Fit for 10 epochs"
   ],
   "metadata": {
    "colab": {
     "base_uri": "https://localhost:8080/"
    },
    "id": "md7QgbyEe2qu",
    "executionInfo": {
     "status": "ok",
     "timestamp": 1700362875617,
     "user_tz": 180,
     "elapsed": 74155,
     "user": {
      "displayName": "Axel Sirota",
      "userId": "02089179879199828401"
     }
    },
    "outputId": "8ece7b0c-f10b-4a91-9104-8029e9ef8aa9"
   },
   "execution_count": 41,
   "outputs": [
    {
     "output_type": "stream",
     "name": "stdout",
     "text": [
      "Epoch 1/10\n",
      "1875/1875 [==============================] - 9s 4ms/step - loss: 0.0150 - val_loss: 0.0111\n",
      "Epoch 2/10\n",
      "1875/1875 [==============================] - 7s 4ms/step - loss: 0.0103 - val_loss: 0.0099\n",
      "Epoch 3/10\n",
      "1875/1875 [==============================] - 7s 4ms/step - loss: 0.0094 - val_loss: 0.0093\n",
      "Epoch 4/10\n",
      "1875/1875 [==============================] - 7s 4ms/step - loss: 0.0089 - val_loss: 0.0088\n",
      "Epoch 5/10\n",
      "1875/1875 [==============================] - 7s 4ms/step - loss: 0.0085 - val_loss: 0.0086\n",
      "Epoch 6/10\n",
      "1875/1875 [==============================] - 7s 4ms/step - loss: 0.0083 - val_loss: 0.0084\n",
      "Epoch 7/10\n",
      "1875/1875 [==============================] - 7s 4ms/step - loss: 0.0081 - val_loss: 0.0082\n",
      "Epoch 8/10\n",
      "1875/1875 [==============================] - 7s 4ms/step - loss: 0.0079 - val_loss: 0.0081\n",
      "Epoch 9/10\n",
      "1875/1875 [==============================] - 7s 4ms/step - loss: 0.0078 - val_loss: 0.0080\n",
      "Epoch 10/10\n",
      "1875/1875 [==============================] - 7s 4ms/step - loss: 0.0077 - val_loss: 0.0077\n"
     ]
    },
    {
     "output_type": "execute_result",
     "data": {
      "text/plain": [
       "<keras.src.callbacks.History at 0x793bcd1e9120>"
      ]
     },
     "metadata": {},
     "execution_count": 41
    }
   ]
  },
  {
   "cell_type": "markdown",
   "source": [
    "Testing"
   ],
   "metadata": {
    "id": "CKMsRwlAfJg0"
   }
  },
  {
   "cell_type": "code",
   "source": [
    "encoded_imgs = autoencoder.encoder(x_test).numpy()\n",
    "decoded_imgs = autoencoder.decoder(encoded_imgs).numpy()\n",
    "n = 10\n",
    "plt.figure(figsize=(20, 4))\n",
    "for i in range(n):\n",
    "  # display original\n",
    "  ax = plt.subplot(2, n, i + 1)\n",
    "  plt.imshow(x_test[i])\n",
    "  plt.title(\"original\")\n",
    "  plt.gray()\n",
    "  ax.get_xaxis().set_visible(False)\n",
    "  ax.get_yaxis().set_visible(False)\n",
    "\n",
    "  # display reconstruction\n",
    "  ax = plt.subplot(2, n, i + 1 + n)\n",
    "  plt.imshow(decoded_imgs[i])\n",
    "  plt.title(\"reconstructed\")\n",
    "  plt.gray()\n",
    "  ax.get_xaxis().set_visible(False)\n",
    "  ax.get_yaxis().set_visible(False)\n",
    "plt.show()"
   ],
   "metadata": {
    "colab": {
     "base_uri": "https://localhost:8080/",
     "height": 237
    },
    "id": "731We7EOe6eV",
    "executionInfo": {
     "status": "ok",
     "timestamp": 1700362876826,
     "user_tz": 180,
     "elapsed": 1219,
     "user": {
      "displayName": "Axel Sirota",
      "userId": "02089179879199828401"
     }
    },
    "outputId": "090ce5b4-d13f-4034-8cc3-d84a8c5e2e18"
   },
   "execution_count": 42,
   "outputs": [
    {
     "output_type": "display_data",
     "data": {
      "text/plain": [
       "<Figure size 2000x400 with 20 Axes>"
      ],
      "image/png": "[encoded data removed]"
     },
     "metadata": {}
    }
   ]
  },
  {
   "cell_type": "code",
   "source": [],
   "metadata": {
    "id": "PPv512IBgx25",
    "executionInfo": {
     "status": "ok",
     "timestamp": 1700362876827,
     "user_tz": 180,
     "elapsed": 14,
     "user": {
      "displayName": "Axel Sirota",
      "userId": "02089179879199828401"
     }
    }
   },
   "execution_count": 42,
   "outputs": []
  }
 ]
}
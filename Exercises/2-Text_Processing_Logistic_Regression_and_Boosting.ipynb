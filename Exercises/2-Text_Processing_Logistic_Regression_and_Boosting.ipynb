{
 "cells": [
  {
   "cell_type": "markdown",
   "metadata": {
    "id": "QBT0kSX6UkRJ"
   },
   "source": [
    "# Logistic Regression and Boosting Algorithms\n",
    "\n",
    "© Data Trainers LLC. GPL v 3.0.\n",
    "\n",
    "**Author:** Axel Sirota\n"
   ]
  },
  {
   "cell_type": "markdown",
   "metadata": {
    "id": "VK1ibhKLUkRW"
   },
   "source": [
    "## Predicting a Single Categorical Response\n",
    "---\n",
    "\n"
   ]
  },
  {
   "cell_type": "markdown",
   "metadata": {
    "id": "KSob7NpKVP3i"
   },
   "source": [
    "### Installing stuff"
   ]
  },
  {
   "cell_type": "code",
   "execution_count": null,
   "metadata": {
    "id": "ipxwHoE9HUCF"
   },
   "outputs": [],
   "source": [
    "!pip install --upgrade textblob spacy 'gensim==4.2.0' swifter keras_preprocessing"
   ]
  },
  {
   "cell_type": "code",
   "execution_count": null,
   "metadata": {
    "id": "VmP43_eVHUCG"
   },
   "outputs": [],
   "source": [
    "!python -m textblob.download_corpora lite\n",
    "!python -m spacy download en_core_web_sm"
   ]
  },
  {
   "cell_type": "code",
   "execution_count": null,
   "metadata": {
    "id": "h80K7JvGHUCJ"
   },
   "outputs": [],
   "source": [
    "import pandas as pd\n",
    "import numpy as np\n",
    "import scipy as sp\n",
    "from sklearn.model_selection import train_test_split\n",
    "from sklearn.feature_extraction.text import CountVectorizer, TfidfVectorizer\n",
    "from sklearn.naive_bayes import MultinomialNB         # Naive Bayes\n",
    "from sklearn.linear_model import LogisticRegression\n",
    "from sklearn import metrics\n",
    "from textblob import TextBlob, Word\n",
    "from nltk.stem.snowball import SnowballStemmer\n",
    "\n",
    "import spacy\n",
    "import gensim\n",
    "import warnings\n",
    "import nltk\n",
    "warnings.filterwarnings('ignore')\n",
    "nltk.download('punkt')\n",
    "textblob_tokenizer = lambda x: TextBlob(x).words\n"
   ]
  },
  {
   "cell_type": "code",
   "execution_count": null,
   "metadata": {
    "id": "k6RoBSKKLvJw"
   },
   "outputs": [],
   "source": [
    "%%writefile get_data.sh\n",
    "if [ ! -f yelp.csv ]; then\n",
    "  wget -O yelp.csv https://www.dropbox.com/s/xds4lua69b7okw8/yelp.csv?dl=0\n",
    "fi"
   ]
  },
  {
   "cell_type": "code",
   "execution_count": null,
   "metadata": {
    "id": "OcmMkgZqLxqW"
   },
   "outputs": [],
   "source": [
    "!bash get_data.sh"
   ]
  },
  {
   "cell_type": "code",
   "execution_count": null,
   "metadata": {
    "id": "-zG2McSWHUCK"
   },
   "outputs": [],
   "source": [
    "# Read yelp.csv into a DataFrame.\n",
    "path = './yelp.csv'\n",
    "yelp = pd.read_csv(path)\n",
    "# Create a new DataFrame that only contains the 5-star and 1-star reviews.\n",
    "yelp_best_worst = yelp[ (yelp.stars == 1) | (yelp.stars == 5) ]\n",
    "\n",
    "# Define X and y.\n",
    "X = yelp_best_worst.text\n",
    "y = yelp_best_worst.stars\n",
    "\n",
    "# Split the new DataFrame into training and testing sets.\n",
    "X_train, X_test, y_train, y_test = None"
   ]
  },
  {
   "cell_type": "markdown",
   "metadata": {
    "id": "AUyePxrQUkRe"
   },
   "source": [
    "<a id=\"using-logistic-regression-for-classification\"></a>\n",
    "## Using Logistic Regression for Classification\n",
    "---\n",
    "\n"
   ]
  },
  {
   "cell_type": "code",
   "execution_count": null,
   "metadata": {
    "id": "mGa-USNjUkRe"
   },
   "outputs": [],
   "source": [
    "# Fit a logistic regression model to predict stars from text\n",
    "\n",
    "logreg = None\n",
    "\n",
    "logreg.fit(X,y)\n"
   ]
  },
  {
   "cell_type": "markdown",
   "metadata": {
    "id": "_VwFV23JVpwK"
   },
   "source": [
    "Of course this simply fails, we need to preprocess the text, convert it into a Tensor format and then and only then we can use models!"
   ]
  },
  {
   "cell_type": "markdown",
   "metadata": {
    "id": "jGrSbpCXVzMD"
   },
   "source": [
    "### Converting text to vectors"
   ]
  },
  {
   "cell_type": "code",
   "execution_count": null,
   "metadata": {
    "id": "qMVNuEtcVoym"
   },
   "outputs": [],
   "source": [
    "import re\n",
    "nltk.download('stopwords')\n",
    "my_stopwords = nltk.corpus.stopwords.words('english')\n",
    "word_rooter = nltk.stem.snowball.PorterStemmer(ignore_stopwords=False).stem\n",
    "my_punctuation = '!\"$%&\\'()*+,-./:;<=>?[\\\\]^_`{|}~•@'\n",
    "\n",
    "\n",
    "def preprocess_text(text, should_join=True):\n",
    "    text = ' '.join(word.lower() for word in textblob_tokenizer(text))\n",
    "    text = re.sub(r'http\\S+', '', text) # remove http links\n",
    "    text = re.sub(r'bit.ly/\\S+', '', text) # rempve bitly links\n",
    "    text = text.strip('[link]') # remove [links]\n",
    "    text = re.sub('['+my_punctuation + ']+', ' ', text) # remove punctuation\n",
    "    text = re.sub('\\s+', ' ', text) #remove double spacing\n",
    "    text = re.sub(r\"[^a-zA-Z.,&!?]+\", r\" \", text) # only normal characters\n",
    "    text_token_list = [word for word in text.split(' ')\n",
    "                            if word not in my_stopwords] # remove stopwords\n",
    "    text_token_list = [word_rooter(word) if '#' not in word else word\n",
    "                        for word in text_token_list] # apply word rooter\n",
    "    text = ' '.join(text_token_list)\n",
    "    if should_join:\n",
    "      return ' '.join(gensim.utils.simple_preprocess(text))\n",
    "    else:\n",
    "      return gensim.utils.simple_preprocess(text)"
   ]
  },
  {
   "cell_type": "code",
   "execution_count": null,
   "metadata": {
    "id": "0kgWYlPpVo1t"
   },
   "outputs": [],
   "source": [
    "# Apply the preprocessing to the dataset\n",
    "import swifter\n",
    "X_preprocessed = None"
   ]
  },
  {
   "cell_type": "code",
   "execution_count": null,
   "metadata": {
    "id": "CwMeNt_sVo4n"
   },
   "outputs": [],
   "source": [
    "X_preprocessed[0]"
   ]
  },
  {
   "cell_type": "markdown",
   "metadata": {
    "id": "mQH3a91nWm3_"
   },
   "source": [
    "How do we pass from text to numbers? With tokenizers. We will use Tensorflow ones!"
   ]
  },
  {
   "cell_type": "code",
   "execution_count": null,
   "metadata": {
    "id": "2N2Y_sleVo7M"
   },
   "outputs": [],
   "source": [
    "# Find a set named vocab that has all unique words\n"
   ]
  },
  {
   "cell_type": "code",
   "execution_count": null,
   "metadata": {
    "id": "grvROE8IVpA7"
   },
   "outputs": [],
   "source": [
    "print(f'{len(vocab)} unique words')"
   ]
  },
  {
   "cell_type": "code",
   "execution_count": null,
   "metadata": {
    "id": "9n5_6tl-VpDh"
   },
   "outputs": [],
   "source": [
    "# Implement this method\n",
    "def get_maximum_review_length(srs):\n",
    "    pass\n",
    "    return maximum\n",
    "\n",
    "\n",
    "maximum = get_maximum_review_length(X_preprocessed)"
   ]
  },
  {
   "cell_type": "code",
   "execution_count": null,
   "metadata": {
    "id": "3sRVrTUhVpGH"
   },
   "outputs": [],
   "source": [
    "print(f'The maximum review was {maximum} words long')"
   ]
  },
  {
   "cell_type": "code",
   "execution_count": null,
   "metadata": {
    "id": "bjiUQ6h1VpIu"
   },
   "outputs": [],
   "source": [
    "from tensorflow.keras.layers.experimental import preprocessing\n",
    "ids_from_words = preprocessing.StringLookup(vocabulary=list(vocab), mask_token=None)"
   ]
  },
  {
   "cell_type": "code",
   "execution_count": null,
   "metadata": {
    "id": "HKuB1UDiVpLl"
   },
   "outputs": [],
   "source": [
    "words_from_ids = preprocessing.StringLookup(\n",
    "    vocabulary=ids_from_words.get_vocabulary(), invert=True, mask_token=None)"
   ]
  },
  {
   "cell_type": "code",
   "execution_count": null,
   "metadata": {
    "id": "ME_wWwsvVpOc"
   },
   "outputs": [],
   "source": [
    "import tensorflow as tf\n",
    "def text_from_ids(ids):\n",
    "  return tf.strings.reduce_join(words_from_ids(ids), axis=-1, separator=' ')"
   ]
  },
  {
   "cell_type": "code",
   "execution_count": null,
   "metadata": {
    "id": "Op37f7EjVpQl"
   },
   "outputs": [],
   "source": [
    "ids = ids_from_words(preprocess_text('Only you can prevent forest fires', should_join=False))\n",
    "ids"
   ]
  },
  {
   "cell_type": "code",
   "execution_count": null,
   "metadata": {
    "id": "712kFWwb1dqE"
   },
   "outputs": [],
   "source": [
    "preprocess_text('Only you can prevent forest fires', should_join=False)"
   ]
  },
  {
   "cell_type": "code",
   "execution_count": null,
   "metadata": {
    "id": "VHSIBP6EVpS6"
   },
   "outputs": [],
   "source": [
    "text_from_ids(ids)\n"
   ]
  },
  {
   "cell_type": "code",
   "execution_count": null,
   "metadata": {
    "id": "LpCZqSlQYb2k"
   },
   "outputs": [],
   "source": [
    "def pad_sequence_of_tokens(x, maxlen, unk_token='[UNK]'):\n",
    "  if len(x)<maxlen:\n",
    "    x.extend([unk_token]*(maxlen-len(x)))\n",
    "  return x"
   ]
  },
  {
   "cell_type": "code",
   "execution_count": null,
   "metadata": {
    "id": "FQTtWBrFYpn2"
   },
   "outputs": [],
   "source": []
  },
  {
   "cell_type": "code",
   "execution_count": null,
   "metadata": {
    "id": "ApOkaOuFYb5r"
   },
   "outputs": [],
   "source": [
    "from keras_preprocessing.sequence import pad_sequences\n",
    "# Very useful method to keep in mind\n",
    "def get_ids_tensor(srs):\n",
    "\n",
    "  processed = srs.swifter.apply(lambda x: pad_sequence_of_tokens(preprocess_text(x, should_join=False), maxlen=maximum)).to_list()\n",
    "  return tf.squeeze(tf.constant(pad_sequences(ids_from_words(processed), maxlen=maximum, padding='post'), dtype='int32'))\n",
    "\n"
   ]
  },
  {
   "cell_type": "code",
   "execution_count": null,
   "metadata": {
    "id": "nyZpEFMGYb_p"
   },
   "outputs": [],
   "source": [
    "all_ids = get_ids_tensor(srs=X_preprocessed.reset_index(drop=True))\n",
    "all_ids"
   ]
  },
  {
   "cell_type": "code",
   "execution_count": null,
   "metadata": {
    "id": "-Oprft54YcDG"
   },
   "outputs": [],
   "source": [
    "all_ids.shape"
   ]
  },
  {
   "cell_type": "code",
   "execution_count": null,
   "metadata": {
    "id": "9FwE3RhcYcLs"
   },
   "outputs": [],
   "source": [
    "# Split the all_ids into.a train a test sets\n",
    "X_train, X_test, y_train, y_test = None"
   ]
  },
  {
   "cell_type": "markdown",
   "metadata": {
    "id": "LRq1lAuCaOSF"
   },
   "source": [
    "### Using Logistic Regression"
   ]
  },
  {
   "cell_type": "code",
   "execution_count": null,
   "metadata": {
    "id": "pg_YCHXmaRQZ"
   },
   "outputs": [],
   "source": [
    "\n",
    "# Train a Logistic Regression on X_train and give the accuracy\n",
    "logreg = None\n"
   ]
  },
  {
   "cell_type": "markdown",
   "metadata": {
    "id": "sm--rNNocZm8"
   },
   "source": [
    "## Using Boosting Algorithms and other things"
   ]
  },
  {
   "cell_type": "code",
   "execution_count": null,
   "metadata": {
    "id": "Mj26V5b0cmev"
   },
   "outputs": [],
   "source": [
    "from sklearn.ensemble import GradientBoostingClassifier\n",
    "\n",
    "clf = GradientBoostingClassifier(n_estimators=50, learning_rate=0.5)\n",
    "clf.fit(X_train, y_train)\n",
    "y_pred = clf.predict(X_test)\n",
    "print(classification_report(y_test, y_pred))"
   ]
  },
  {
   "cell_type": "code",
   "execution_count": null,
   "metadata": {
    "id": "jX7NK1QOc7o-"
   },
   "outputs": [],
   "source": [
    "from sklearn.ensemble import AdaBoostClassifier\n",
    "\n",
    "clf = AdaBoostClassifier(n_estimators=50, learning_rate=0.5)\n",
    "clf.fit(X_train, y_train)\n",
    "y_pred = clf.predict(X_test)\n",
    "print(classification_report(y_test, y_pred))"
   ]
  },
  {
   "cell_type": "code",
   "execution_count": null,
   "metadata": {
    "id": "Q2Ufd7zrAfxk"
   },
   "outputs": [],
   "source": []
  },
  {
   "cell_type": "code",
   "execution_count": null,
   "metadata": {
    "id": "SgI4faRIdKD9"
   },
   "outputs": [],
   "source": [
    "from sklearn.ensemble import RandomForestClassifier\n",
    "\n",
    "clf = RandomForestClassifier(n_estimators=50)\n",
    "clf.fit(X_train, y_train)\n",
    "y_pred = clf.predict(X_test)\n",
    "print(classification_report(y_test, y_pred))"
   ]
  },
  {
   "cell_type": "markdown",
   "metadata": {
    "id": "KkCMvMmPhoPT"
   },
   "source": [
    "## Multiclass Classification"
   ]
  },
  {
   "cell_type": "markdown",
   "metadata": {
    "id": "N79KIaamiOKf"
   },
   "source": [
    "Just check in the estimators, most support multiclass classification."
   ]
  },
  {
   "cell_type": "code",
   "execution_count": null,
   "metadata": {
    "id": "bphOQQ2IhrHU"
   },
   "outputs": [],
   "source": [
    "from sklearn.datasets import load_iris\n",
    "from sklearn.linear_model import LogisticRegression\n",
    "X, y = load_iris(return_X_y=True)\n",
    "clf = LogisticRegression(random_state=0, multi_class='multinomial').fit(X, y)\n",
    "clf.predict(X[:2, :])\n",
    "clf.predict_proba(X[:2, :])\n",
    "clf.score(X, y)"
   ]
  },
  {
   "cell_type": "markdown",
   "metadata": {
    "id": "Ad5QRe4TiUPu"
   },
   "source": [
    "### **Homework**: Try to perform the stars classification with Logistic Regression but without filtering only for 5 and 1 stars."
   ]
  }
 ],
 "metadata": {
  "colab": {
   "provenance": [
    {
     "file_id": "1OBnKuGjumbhSEVLXphzlCxXHs_PCExb5",
     "timestamp": 1695268579705
    },
    {
     "file_id": "1PJeNtO11cVIyAUT5yN0rQqPhWwPJHhpa",
     "timestamp": 1693947392869
    }
   ]
  },
  "kernelspec": {
   "display_name": "Python 3 (ipykernel)",
   "language": "python",
   "name": "python3"
  },
  "language_info": {
   "codemirror_mode": {
    "name": "ipython",
    "version": 3
   },
   "file_extension": ".py",
   "mimetype": "text/x-python",
   "name": "python",
   "nbconvert_exporter": "python",
   "pygments_lexer": "ipython3",
   "version": "3.9.18"
  }
 },
 "nbformat": 4,
 "nbformat_minor": 4
}